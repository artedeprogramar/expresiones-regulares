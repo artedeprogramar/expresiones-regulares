{
  "nbformat": 4,
  "nbformat_minor": 0,
  "metadata": {
    "colab": {
      "name": "Arte_de_programar__Expresiones_Regulares.ipynb",
      "provenance": [],
      "collapsed_sections": []
    },
    "kernelspec": {
      "name": "python3",
      "display_name": "Python 3"
    },
    "language_info": {
      "name": "python"
    }
  },
  "cells": [
    {
      "cell_type": "markdown",
      "metadata": {
        "id": "leu4IEyv0NgD"
      },
      "source": [
        "# 🎨🎬 Arte de programar: Introducción a las Expresiones Regulares\n",
        "\n",
        "▶ Canal de YouTube: [youtube.com/ArteDeProgramar](https://www.youtube.com/ArteDeProgramar)\n",
        "\n",
        "▶ Twitter: [@arteProgramar](https://twitter.com/arteProgramar)\n",
        "\n",
        "▶ Instagram: [@arteProgramar](https://www.instagram.com/arteprogramar/)\n",
        "\n",
        "▶ Twitter personal: [@360macky](https://twitter.com/360macky)\n",
        "\n",
        "<hr />\n",
        "\n",
        "Este notebook pertenece al episodio **¿Cómo funcionan las Expresiones Regulares?** de la serie de **Expresiones Regulares**.\n",
        "\n",
        "> 💙 Puedes apoyar mi trabajo donando a través de [PayPal](https://www.paypal.com/donate?business=7AUJ8ZL4U34AE&item_name=Creando+v%C3%ADdeos+sobre+ciencias+de+la+computaci%C3%B3n&currency_code=USD), [Plin](https://bit.ly/plinArteDeProgramar) o [Yape](https://bit.ly/yapeArteDeProgramar).\n",
        "\n",
        "> 💚 También puedes tener un [decuento de $100 en tu suscripción a Platzi](https://unete.platzi.com/p/?utm_campaign=af_z8nz47zasr9n20g7hz8nz47zi3etbtjj) en el plan Expert+.\n",
        "\n",
        "<hr />\n"
      ]
    },
    {
      "cell_type": "markdown",
      "metadata": {
        "id": "pcVO8q2-1Keg"
      },
      "source": [
        "## ¿Cómo usamos las expresiones regulares en Python?\n",
        "\n",
        "¡Listo! Hora de practicar.\n",
        "\n",
        "En Python necesitamos importar `re`, la librería para utilizar Expresiones Regulares en Python.\n",
        "\n"
      ]
    },
    {
      "cell_type": "code",
      "metadata": {
        "id": "dpBzyXX_0L6x"
      },
      "source": [
        "import re"
      ],
      "execution_count": 10,
      "outputs": []
    },
    {
      "cell_type": "markdown",
      "metadata": {
        "id": "KkdXdQAhnE_j"
      },
      "source": [
        "Empecemos a enviar una serie de números correctos y otros incorrectos a la expresión regular que viste en el episodio de Expresiones Regulares:\n",
        "`[0-9]{9,9}`"
      ]
    },
    {
      "cell_type": "code",
      "metadata": {
        "colab": {
          "base_uri": "https://localhost:8080/"
        },
        "id": "B0bbs6SK3Z--",
        "outputId": "b26771eb-273e-4384-ec11-340abf005da4"
      },
      "source": [
        "expresion_regular = r\"[0-9]{9,9}\"\n",
        "\n",
        "numeros = [\"985658854\",\n",
        "           \"748575\",\n",
        "           \"852546583\",\n",
        "           \"856321\",\n",
        "           \"28347\",\n",
        "           \"658852145\",\n",
        "           \"TEST\",\n",
        "           \"NUMB3R\",\n",
        "           \"283478??\",\n",
        "           \")))==\",\n",
        "           \"NU995\",\n",
        "           \"7488759533\",\n",
        "           \"123456\",\n",
        "           \"45F5S5DF\"]\n",
        "\n",
        "for numero in numeros:\n",
        "  # Comparamos la expresión regular con cada número\n",
        "  if bool(re.search(expresion_regular, numero)):\n",
        "    print(f\"✅ {numero} SÍ coincide con la expresión regular\\n\")\n",
        "  else:\n",
        "    print(f\"❌ {numero} no coincide con la expresión regular\\n\")\n",
        "\n"
      ],
      "execution_count": 11,
      "outputs": [
        {
          "output_type": "stream",
          "name": "stdout",
          "text": [
            "✅ 985658854 SÍ coincide con la expresión regular\n",
            "\n",
            "❌ 748575 no coincide con la expresión regular\n",
            "\n",
            "✅ 852546583 SÍ coincide con la expresión regular\n",
            "\n",
            "❌ 856321 no coincide con la expresión regular\n",
            "\n",
            "❌ 28347 no coincide con la expresión regular\n",
            "\n",
            "✅ 658852145 SÍ coincide con la expresión regular\n",
            "\n",
            "❌ TEST no coincide con la expresión regular\n",
            "\n",
            "❌ NUMB3R no coincide con la expresión regular\n",
            "\n",
            "❌ 283478?? no coincide con la expresión regular\n",
            "\n",
            "❌ )))== no coincide con la expresión regular\n",
            "\n",
            "❌ NU995 no coincide con la expresión regular\n",
            "\n",
            "✅ 7488759533 SÍ coincide con la expresión regular\n",
            "\n",
            "❌ 123456 no coincide con la expresión regular\n",
            "\n",
            "❌ 45F5S5DF no coincide con la expresión regular\n",
            "\n"
          ]
        }
      ]
    },
    {
      "cell_type": "markdown",
      "metadata": {
        "id": "Rcw9A6A0noSd"
      },
      "source": [
        "## Rangos\n",
        "\n",
        "Los rangos nos permiten establecer los caracteres con lo que queremos coincidir. El primero que hemos usado es el de números. \n",
        "\n",
        " - `[0-9]`: Rango de números desde el 0 hasta el 9\n",
        " - `[4-9]`: Rango de números desde el 4 hasta el 9\n",
        " - `[1-5]`: Rango de números desde el 1 hasta el 5\n",
        "\n"
      ]
    },
    {
      "cell_type": "markdown",
      "metadata": {
        "id": "LBTUnhy-PJcG"
      },
      "source": [
        "## Cuantificadores\n",
        "\n",
        "Los rangos nos permiten establecer los caracteres con lo que queremos coincidir. El primero que hemos usado es el de números. \n",
        "\n",
        " - `{9,9}`: Mínimo de 9 y máximo de 9 repeticiones\n",
        " - `{5,10}`: Mínimo de 5 y máximo de 10 repeticiones\n",
        " - `{2,4}`: Mínimo de 2 y máximo de 4 repeticiones.\n",
        "\n"
      ]
    },
    {
      "cell_type": "markdown",
      "metadata": {
        "id": "jJyvypEbtPt_"
      },
      "source": [
        "# Ejercicios"
      ]
    },
    {
      "cell_type": "markdown",
      "metadata": {
        "id": "W2reElOutS3f"
      },
      "source": [
        "1. Crea una expresión regular para detectar palabras de hasta 5 caracteres\n"
      ]
    },
    {
      "cell_type": "code",
      "metadata": {
        "id": "LTHJMK2XtlCf"
      },
      "source": [
        "expresion_regular = r\"test\" # <- Escribe aquí la expresión\n",
        "\n",
        "palabras = [\"Ahora\", \"Cinco\", \"Mouse\"]\n",
        "\n",
        "for palabra in palabras:\n",
        "  if bool(re.search(expresion_regular, palabra)):\n",
        "    print(f\"✅ {palabra} SÍ coincide con la expresión regular\\n\")\n",
        "  else:\n",
        "    print(f\"❌ {palabra} no coincide con la expresión regular. Revisa e intenta de nuevo\\n\")\n",
        "\n"
      ],
      "execution_count": null,
      "outputs": []
    },
    {
      "cell_type": "markdown",
      "metadata": {
        "id": "QgRwflVZuxPs"
      },
      "source": [
        "2. Crea una expresión regular para detectar números entre 4 y 10 dígitos"
      ]
    },
    {
      "cell_type": "code",
      "metadata": {
        "id": "WDIvMZYNvPZ7"
      },
      "source": [
        "expresion_regular = r\"test\" # <- Escribe aquí la expresión\n",
        "\n",
        "numeros = [\"1234\", \"452845\", \"7418529630\"]\n",
        "\n",
        "for numero in numeros:\n",
        "  if bool(re.search(expresion_regular, numero)):\n",
        "    print(f\"✅ {numero} SÍ coincide con la expresión regular\\n\")\n",
        "  else:\n",
        "    print(f\"❌ {numero} no coincide con la expresión regular. Revisa e intenta de nuevo\\n\")\n",
        "\n"
      ],
      "execution_count": null,
      "outputs": []
    },
    {
      "cell_type": "markdown",
      "metadata": {
        "id": "fIssCH0wxPuc"
      },
      "source": [
        "3. Crea una expresión regular para detectar sólo las palabras `Color` y `Colour`"
      ]
    },
    {
      "cell_type": "code",
      "metadata": {
        "id": "w5L4_6wLxYG9"
      },
      "source": [
        "expresion_regular = r\"test\" # <- Escribe aquí la expresión\n",
        "\n",
        "palabras = [\"Color\", \"Colour\"]\n",
        "\n",
        "for palabra in palabras:\n",
        "  if bool(re.search(expresion_regular, palabra)):\n",
        "    print(f\"✅ {palabra} SÍ coincide con la expresión regular\\n\")\n",
        "  else:\n",
        "    print(f\"❌ {palabra} no coincide con la expresión regular. Revisa e intenta de nuevo\\n\")\n",
        "\n"
      ],
      "execution_count": null,
      "outputs": []
    }
  ]
}